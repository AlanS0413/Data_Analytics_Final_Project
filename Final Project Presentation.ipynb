{
 "cells": [
  {
   "cell_type": "code",
   "execution_count": 1,
   "id": "1341dcd9",
   "metadata": {},
   "outputs": [],
   "source": [
    "import pandas as pd\n",
    "import matplotlib.pyplot as plt\n",
    "import numpy as np"
   ]
  },
  {
   "cell_type": "code",
   "execution_count": 2,
   "id": "ce3dcd6e",
   "metadata": {},
   "outputs": [],
   "source": [
    "df = pd.read_csv(\"GlobalLandTemperaturesByCountry.csv\")"
   ]
  },
  {
   "cell_type": "code",
   "execution_count": 3,
   "id": "69030141",
   "metadata": {},
   "outputs": [
    {
     "data": {
      "text/html": [
       "<div>\n",
       "<style scoped>\n",
       "    .dataframe tbody tr th:only-of-type {\n",
       "        vertical-align: middle;\n",
       "    }\n",
       "\n",
       "    .dataframe tbody tr th {\n",
       "        vertical-align: top;\n",
       "    }\n",
       "\n",
       "    .dataframe thead th {\n",
       "        text-align: right;\n",
       "    }\n",
       "</style>\n",
       "<table border=\"1\" class=\"dataframe\">\n",
       "  <thead>\n",
       "    <tr style=\"text-align: right;\">\n",
       "      <th></th>\n",
       "      <th>dt</th>\n",
       "      <th>AverageTemperature</th>\n",
       "      <th>AverageTemperatureUncertainty</th>\n",
       "      <th>Country</th>\n",
       "    </tr>\n",
       "  </thead>\n",
       "  <tbody>\n",
       "    <tr>\n",
       "      <th>0</th>\n",
       "      <td>1743-11-01</td>\n",
       "      <td>4.384</td>\n",
       "      <td>2.294</td>\n",
       "      <td>Åland</td>\n",
       "    </tr>\n",
       "    <tr>\n",
       "      <th>1</th>\n",
       "      <td>1743-12-01</td>\n",
       "      <td>NaN</td>\n",
       "      <td>NaN</td>\n",
       "      <td>Åland</td>\n",
       "    </tr>\n",
       "    <tr>\n",
       "      <th>2</th>\n",
       "      <td>1744-01-01</td>\n",
       "      <td>NaN</td>\n",
       "      <td>NaN</td>\n",
       "      <td>Åland</td>\n",
       "    </tr>\n",
       "    <tr>\n",
       "      <th>3</th>\n",
       "      <td>1744-02-01</td>\n",
       "      <td>NaN</td>\n",
       "      <td>NaN</td>\n",
       "      <td>Åland</td>\n",
       "    </tr>\n",
       "    <tr>\n",
       "      <th>4</th>\n",
       "      <td>1744-03-01</td>\n",
       "      <td>NaN</td>\n",
       "      <td>NaN</td>\n",
       "      <td>Åland</td>\n",
       "    </tr>\n",
       "  </tbody>\n",
       "</table>\n",
       "</div>"
      ],
      "text/plain": [
       "           dt  AverageTemperature  AverageTemperatureUncertainty Country\n",
       "0  1743-11-01               4.384                          2.294   Åland\n",
       "1  1743-12-01                 NaN                            NaN   Åland\n",
       "2  1744-01-01                 NaN                            NaN   Åland\n",
       "3  1744-02-01                 NaN                            NaN   Åland\n",
       "4  1744-03-01                 NaN                            NaN   Åland"
      ]
     },
     "execution_count": 3,
     "metadata": {},
     "output_type": "execute_result"
    }
   ],
   "source": [
    "df.head()"
   ]
  },
  {
   "cell_type": "code",
   "execution_count": 4,
   "id": "5c33a047",
   "metadata": {},
   "outputs": [
    {
     "data": {
      "text/html": [
       "<div>\n",
       "<style scoped>\n",
       "    .dataframe tbody tr th:only-of-type {\n",
       "        vertical-align: middle;\n",
       "    }\n",
       "\n",
       "    .dataframe tbody tr th {\n",
       "        vertical-align: top;\n",
       "    }\n",
       "\n",
       "    .dataframe thead th {\n",
       "        text-align: right;\n",
       "    }\n",
       "</style>\n",
       "<table border=\"1\" class=\"dataframe\">\n",
       "  <thead>\n",
       "    <tr style=\"text-align: right;\">\n",
       "      <th></th>\n",
       "      <th>dt</th>\n",
       "      <th>AverageTemperature</th>\n",
       "      <th>AverageTemperatureUncertainty</th>\n",
       "      <th>Country</th>\n",
       "    </tr>\n",
       "  </thead>\n",
       "  <tbody>\n",
       "    <tr>\n",
       "      <th>577457</th>\n",
       "      <td>2013-05-01</td>\n",
       "      <td>19.059</td>\n",
       "      <td>1.022</td>\n",
       "      <td>Zimbabwe</td>\n",
       "    </tr>\n",
       "    <tr>\n",
       "      <th>577458</th>\n",
       "      <td>2013-06-01</td>\n",
       "      <td>17.613</td>\n",
       "      <td>0.473</td>\n",
       "      <td>Zimbabwe</td>\n",
       "    </tr>\n",
       "    <tr>\n",
       "      <th>577459</th>\n",
       "      <td>2013-07-01</td>\n",
       "      <td>17.000</td>\n",
       "      <td>0.453</td>\n",
       "      <td>Zimbabwe</td>\n",
       "    </tr>\n",
       "    <tr>\n",
       "      <th>577460</th>\n",
       "      <td>2013-08-01</td>\n",
       "      <td>19.759</td>\n",
       "      <td>0.717</td>\n",
       "      <td>Zimbabwe</td>\n",
       "    </tr>\n",
       "    <tr>\n",
       "      <th>577461</th>\n",
       "      <td>2013-09-01</td>\n",
       "      <td>NaN</td>\n",
       "      <td>NaN</td>\n",
       "      <td>Zimbabwe</td>\n",
       "    </tr>\n",
       "  </tbody>\n",
       "</table>\n",
       "</div>"
      ],
      "text/plain": [
       "                dt  AverageTemperature  AverageTemperatureUncertainty  \\\n",
       "577457  2013-05-01              19.059                          1.022   \n",
       "577458  2013-06-01              17.613                          0.473   \n",
       "577459  2013-07-01              17.000                          0.453   \n",
       "577460  2013-08-01              19.759                          0.717   \n",
       "577461  2013-09-01                 NaN                            NaN   \n",
       "\n",
       "         Country  \n",
       "577457  Zimbabwe  \n",
       "577458  Zimbabwe  \n",
       "577459  Zimbabwe  \n",
       "577460  Zimbabwe  \n",
       "577461  Zimbabwe  "
      ]
     },
     "execution_count": 4,
     "metadata": {},
     "output_type": "execute_result"
    }
   ],
   "source": [
    "df.tail()"
   ]
  },
  {
   "cell_type": "code",
   "execution_count": 5,
   "id": "e262bc2c",
   "metadata": {},
   "outputs": [],
   "source": [
    "cdf = df.drop(range(0,3240))"
   ]
  },
  {
   "cell_type": "code",
   "execution_count": 6,
   "id": "a63d26be",
   "metadata": {},
   "outputs": [
    {
     "data": {
      "text/html": [
       "<div>\n",
       "<style scoped>\n",
       "    .dataframe tbody tr th:only-of-type {\n",
       "        vertical-align: middle;\n",
       "    }\n",
       "\n",
       "    .dataframe tbody tr th {\n",
       "        vertical-align: top;\n",
       "    }\n",
       "\n",
       "    .dataframe thead th {\n",
       "        text-align: right;\n",
       "    }\n",
       "</style>\n",
       "<table border=\"1\" class=\"dataframe\">\n",
       "  <thead>\n",
       "    <tr style=\"text-align: right;\">\n",
       "      <th></th>\n",
       "      <th>dt</th>\n",
       "      <th>AverageTemperature</th>\n",
       "      <th>AverageTemperatureUncertainty</th>\n",
       "      <th>Country</th>\n",
       "    </tr>\n",
       "  </thead>\n",
       "  <tbody>\n",
       "    <tr>\n",
       "      <th>3240</th>\n",
       "      <td>1838-05-01</td>\n",
       "      <td>NaN</td>\n",
       "      <td>NaN</td>\n",
       "      <td>Afghanistan</td>\n",
       "    </tr>\n",
       "    <tr>\n",
       "      <th>3241</th>\n",
       "      <td>1838-06-01</td>\n",
       "      <td>23.950</td>\n",
       "      <td>2.510</td>\n",
       "      <td>Afghanistan</td>\n",
       "    </tr>\n",
       "    <tr>\n",
       "      <th>3242</th>\n",
       "      <td>1838-07-01</td>\n",
       "      <td>26.877</td>\n",
       "      <td>2.883</td>\n",
       "      <td>Afghanistan</td>\n",
       "    </tr>\n",
       "    <tr>\n",
       "      <th>3243</th>\n",
       "      <td>1838-08-01</td>\n",
       "      <td>24.938</td>\n",
       "      <td>2.992</td>\n",
       "      <td>Afghanistan</td>\n",
       "    </tr>\n",
       "    <tr>\n",
       "      <th>3244</th>\n",
       "      <td>1838-09-01</td>\n",
       "      <td>18.981</td>\n",
       "      <td>2.538</td>\n",
       "      <td>Afghanistan</td>\n",
       "    </tr>\n",
       "  </tbody>\n",
       "</table>\n",
       "</div>"
      ],
      "text/plain": [
       "              dt  AverageTemperature  AverageTemperatureUncertainty  \\\n",
       "3240  1838-05-01                 NaN                            NaN   \n",
       "3241  1838-06-01              23.950                          2.510   \n",
       "3242  1838-07-01              26.877                          2.883   \n",
       "3243  1838-08-01              24.938                          2.992   \n",
       "3244  1838-09-01              18.981                          2.538   \n",
       "\n",
       "          Country  \n",
       "3240  Afghanistan  \n",
       "3241  Afghanistan  \n",
       "3242  Afghanistan  \n",
       "3243  Afghanistan  \n",
       "3244  Afghanistan  "
      ]
     },
     "execution_count": 6,
     "metadata": {},
     "output_type": "execute_result"
    }
   ],
   "source": [
    "cdf.head()"
   ]
  },
  {
   "cell_type": "code",
   "execution_count": 7,
   "id": "5abd1df5",
   "metadata": {},
   "outputs": [
    {
     "data": {
      "text/plain": [
       "dt                                object\n",
       "AverageTemperature               float64\n",
       "AverageTemperatureUncertainty    float64\n",
       "Country                           object\n",
       "dtype: object"
      ]
     },
     "execution_count": 7,
     "metadata": {},
     "output_type": "execute_result"
    }
   ],
   "source": [
    "cdf.dtypes"
   ]
  },
  {
   "cell_type": "code",
   "execution_count": 8,
   "id": "7e1baec1",
   "metadata": {},
   "outputs": [
    {
     "data": {
      "text/html": [
       "<div>\n",
       "<style scoped>\n",
       "    .dataframe tbody tr th:only-of-type {\n",
       "        vertical-align: middle;\n",
       "    }\n",
       "\n",
       "    .dataframe tbody tr th {\n",
       "        vertical-align: top;\n",
       "    }\n",
       "\n",
       "    .dataframe thead th {\n",
       "        text-align: right;\n",
       "    }\n",
       "</style>\n",
       "<table border=\"1\" class=\"dataframe\">\n",
       "  <thead>\n",
       "    <tr style=\"text-align: right;\">\n",
       "      <th></th>\n",
       "      <th>dt</th>\n",
       "      <th>AverageTemperature</th>\n",
       "      <th>AverageTemperatureUncertainty</th>\n",
       "      <th>Country</th>\n",
       "    </tr>\n",
       "  </thead>\n",
       "  <tbody>\n",
       "    <tr>\n",
       "      <th>577457</th>\n",
       "      <td>2013-05-01</td>\n",
       "      <td>19.059</td>\n",
       "      <td>1.022</td>\n",
       "      <td>Zimbabwe</td>\n",
       "    </tr>\n",
       "    <tr>\n",
       "      <th>577458</th>\n",
       "      <td>2013-06-01</td>\n",
       "      <td>17.613</td>\n",
       "      <td>0.473</td>\n",
       "      <td>Zimbabwe</td>\n",
       "    </tr>\n",
       "    <tr>\n",
       "      <th>577459</th>\n",
       "      <td>2013-07-01</td>\n",
       "      <td>17.000</td>\n",
       "      <td>0.453</td>\n",
       "      <td>Zimbabwe</td>\n",
       "    </tr>\n",
       "    <tr>\n",
       "      <th>577460</th>\n",
       "      <td>2013-08-01</td>\n",
       "      <td>19.759</td>\n",
       "      <td>0.717</td>\n",
       "      <td>Zimbabwe</td>\n",
       "    </tr>\n",
       "    <tr>\n",
       "      <th>577461</th>\n",
       "      <td>2013-09-01</td>\n",
       "      <td>NaN</td>\n",
       "      <td>NaN</td>\n",
       "      <td>Zimbabwe</td>\n",
       "    </tr>\n",
       "  </tbody>\n",
       "</table>\n",
       "</div>"
      ],
      "text/plain": [
       "                dt  AverageTemperature  AverageTemperatureUncertainty  \\\n",
       "577457  2013-05-01              19.059                          1.022   \n",
       "577458  2013-06-01              17.613                          0.473   \n",
       "577459  2013-07-01              17.000                          0.453   \n",
       "577460  2013-08-01              19.759                          0.717   \n",
       "577461  2013-09-01                 NaN                            NaN   \n",
       "\n",
       "         Country  \n",
       "577457  Zimbabwe  \n",
       "577458  Zimbabwe  \n",
       "577459  Zimbabwe  \n",
       "577460  Zimbabwe  \n",
       "577461  Zimbabwe  "
      ]
     },
     "execution_count": 8,
     "metadata": {},
     "output_type": "execute_result"
    }
   ],
   "source": [
    "cdf.tail()"
   ]
  },
  {
   "cell_type": "code",
   "execution_count": 9,
   "id": "57b7613b",
   "metadata": {},
   "outputs": [
    {
     "data": {
      "text/plain": [
       "3240      Afghanistan\n",
       "3241      Afghanistan\n",
       "3242      Afghanistan\n",
       "3243      Afghanistan\n",
       "3244      Afghanistan\n",
       "             ...     \n",
       "577457       Zimbabwe\n",
       "577458       Zimbabwe\n",
       "577459       Zimbabwe\n",
       "577460       Zimbabwe\n",
       "577461       Zimbabwe\n",
       "Name: Country, Length: 574222, dtype: object"
      ]
     },
     "execution_count": 9,
     "metadata": {},
     "output_type": "execute_result"
    }
   ],
   "source": [
    "cdf.iloc[:,3]"
   ]
  },
  {
   "cell_type": "code",
   "execution_count": 10,
   "id": "2e67cbd8",
   "metadata": {},
   "outputs": [
    {
     "data": {
      "text/html": [
       "<div>\n",
       "<style scoped>\n",
       "    .dataframe tbody tr th:only-of-type {\n",
       "        vertical-align: middle;\n",
       "    }\n",
       "\n",
       "    .dataframe tbody tr th {\n",
       "        vertical-align: top;\n",
       "    }\n",
       "\n",
       "    .dataframe thead th {\n",
       "        text-align: right;\n",
       "    }\n",
       "</style>\n",
       "<table border=\"1\" class=\"dataframe\">\n",
       "  <thead>\n",
       "    <tr style=\"text-align: right;\">\n",
       "      <th></th>\n",
       "      <th>dt</th>\n",
       "      <th>AverageTemperature</th>\n",
       "      <th>AverageTemperatureUncertainty</th>\n",
       "      <th>Country</th>\n",
       "    </tr>\n",
       "  </thead>\n",
       "  <tbody>\n",
       "    <tr>\n",
       "      <th>3240</th>\n",
       "      <td>1838-05-01</td>\n",
       "      <td>NaN</td>\n",
       "      <td>NaN</td>\n",
       "      <td>Afghanistan</td>\n",
       "    </tr>\n",
       "    <tr>\n",
       "      <th>3241</th>\n",
       "      <td>1838-06-01</td>\n",
       "      <td>23.950</td>\n",
       "      <td>2.510</td>\n",
       "      <td>Afghanistan</td>\n",
       "    </tr>\n",
       "    <tr>\n",
       "      <th>3242</th>\n",
       "      <td>1838-07-01</td>\n",
       "      <td>26.877</td>\n",
       "      <td>2.883</td>\n",
       "      <td>Afghanistan</td>\n",
       "    </tr>\n",
       "    <tr>\n",
       "      <th>3243</th>\n",
       "      <td>1838-08-01</td>\n",
       "      <td>24.938</td>\n",
       "      <td>2.992</td>\n",
       "      <td>Afghanistan</td>\n",
       "    </tr>\n",
       "    <tr>\n",
       "      <th>3244</th>\n",
       "      <td>1838-09-01</td>\n",
       "      <td>18.981</td>\n",
       "      <td>2.538</td>\n",
       "      <td>Afghanistan</td>\n",
       "    </tr>\n",
       "  </tbody>\n",
       "</table>\n",
       "</div>"
      ],
      "text/plain": [
       "              dt  AverageTemperature  AverageTemperatureUncertainty  \\\n",
       "3240  1838-05-01                 NaN                            NaN   \n",
       "3241  1838-06-01              23.950                          2.510   \n",
       "3242  1838-07-01              26.877                          2.883   \n",
       "3243  1838-08-01              24.938                          2.992   \n",
       "3244  1838-09-01              18.981                          2.538   \n",
       "\n",
       "          Country  \n",
       "3240  Afghanistan  \n",
       "3241  Afghanistan  \n",
       "3242  Afghanistan  \n",
       "3243  Afghanistan  \n",
       "3244  Afghanistan  "
      ]
     },
     "execution_count": 10,
     "metadata": {},
     "output_type": "execute_result"
    }
   ],
   "source": [
    "cdf.head()"
   ]
  },
  {
   "cell_type": "code",
   "execution_count": 11,
   "id": "198ae1b3",
   "metadata": {},
   "outputs": [
    {
     "data": {
      "text/plain": [
       "(574222, 4)"
      ]
     },
     "execution_count": 11,
     "metadata": {},
     "output_type": "execute_result"
    }
   ],
   "source": [
    "cdf.shape"
   ]
  },
  {
   "cell_type": "code",
   "execution_count": 12,
   "id": "2d68653c",
   "metadata": {},
   "outputs": [],
   "source": [
    "cdf1 = cdf.apply(lambda row: row[cdf['Country'].isin(['United States','Russia','Europe','Canada','Japan'])])"
   ]
  },
  {
   "cell_type": "code",
   "execution_count": 13,
   "id": "28d7de3f",
   "metadata": {},
   "outputs": [
    {
     "data": {
      "text/plain": [
       "97255            Canada\n",
       "97256            Canada\n",
       "97257            Canada\n",
       "97258            Canada\n",
       "97259            Canada\n",
       "              ...      \n",
       "557816    United States\n",
       "557817    United States\n",
       "557818    United States\n",
       "557819    United States\n",
       "557820    United States\n",
       "Name: Country, Length: 13615, dtype: object"
      ]
     },
     "execution_count": 13,
     "metadata": {},
     "output_type": "execute_result"
    }
   ],
   "source": [
    "cdf1.Country"
   ]
  },
  {
   "cell_type": "code",
   "execution_count": 14,
   "id": "d5d76010",
   "metadata": {},
   "outputs": [],
   "source": [
    "cdf1['dt'] = cdf1['dt'].str[:4]"
   ]
  },
  {
   "cell_type": "code",
   "execution_count": 15,
   "id": "60a42ba0",
   "metadata": {},
   "outputs": [
    {
     "data": {
      "text/plain": [
       "97255     1768\n",
       "97256     1768\n",
       "97257     1768\n",
       "97258     1768\n",
       "97259     1769\n",
       "          ... \n",
       "557816    2013\n",
       "557817    2013\n",
       "557818    2013\n",
       "557819    2013\n",
       "557820    2013\n",
       "Name: dt, Length: 13615, dtype: object"
      ]
     },
     "execution_count": 15,
     "metadata": {},
     "output_type": "execute_result"
    }
   ],
   "source": [
    "cdf1.dt"
   ]
  },
  {
   "cell_type": "code",
   "execution_count": 16,
   "id": "8090a1c1",
   "metadata": {
    "scrolled": false
   },
   "outputs": [],
   "source": [
    "x = cdf1.Country\n",
    "y = cdf1.AverageTemperature\n",
    "z = cdf1.dt"
   ]
  },
  {
   "cell_type": "code",
   "execution_count": 17,
   "id": "c4a5d9d6",
   "metadata": {},
   "outputs": [],
   "source": [
    "us = cdf.apply(lambda row: row[cdf['Country'].isin(['United States'])])"
   ]
  },
  {
   "cell_type": "code",
   "execution_count": 18,
   "id": "d70d6e67",
   "metadata": {},
   "outputs": [
    {
     "name": "stdout",
     "output_type": "stream",
     "text": [
      "<class 'pandas.core.frame.DataFrame'>\n",
      "Int64Index: 2941 entries, 554880 to 557820\n",
      "Data columns (total 4 columns):\n",
      " #   Column                         Non-Null Count  Dtype  \n",
      "---  ------                         --------------  -----  \n",
      " 0   dt                             2941 non-null   object \n",
      " 1   AverageTemperature             2482 non-null   float64\n",
      " 2   AverageTemperatureUncertainty  2482 non-null   float64\n",
      " 3   Country                        2941 non-null   object \n",
      "dtypes: float64(2), object(2)\n",
      "memory usage: 114.9+ KB\n"
     ]
    }
   ],
   "source": [
    "us.info()"
   ]
  },
  {
   "cell_type": "code",
   "execution_count": 19,
   "id": "c40d8db4",
   "metadata": {},
   "outputs": [
    {
     "data": {
      "text/plain": [
       "(2941, 4)"
      ]
     },
     "execution_count": 19,
     "metadata": {},
     "output_type": "execute_result"
    }
   ],
   "source": [
    "us.shape"
   ]
  },
  {
   "cell_type": "code",
   "execution_count": 20,
   "id": "09642d17",
   "metadata": {},
   "outputs": [
    {
     "data": {
      "text/html": [
       "<div>\n",
       "<style scoped>\n",
       "    .dataframe tbody tr th:only-of-type {\n",
       "        vertical-align: middle;\n",
       "    }\n",
       "\n",
       "    .dataframe tbody tr th {\n",
       "        vertical-align: top;\n",
       "    }\n",
       "\n",
       "    .dataframe thead th {\n",
       "        text-align: right;\n",
       "    }\n",
       "</style>\n",
       "<table border=\"1\" class=\"dataframe\">\n",
       "  <thead>\n",
       "    <tr style=\"text-align: right;\">\n",
       "      <th></th>\n",
       "      <th>dt</th>\n",
       "      <th>AverageTemperature</th>\n",
       "      <th>AverageTemperatureUncertainty</th>\n",
       "      <th>Country</th>\n",
       "    </tr>\n",
       "  </thead>\n",
       "  <tbody>\n",
       "    <tr>\n",
       "      <th>554880</th>\n",
       "      <td>1768-09-01</td>\n",
       "      <td>15.420</td>\n",
       "      <td>2.880</td>\n",
       "      <td>United States</td>\n",
       "    </tr>\n",
       "    <tr>\n",
       "      <th>554881</th>\n",
       "      <td>1768-10-01</td>\n",
       "      <td>8.162</td>\n",
       "      <td>3.386</td>\n",
       "      <td>United States</td>\n",
       "    </tr>\n",
       "    <tr>\n",
       "      <th>554882</th>\n",
       "      <td>1768-11-01</td>\n",
       "      <td>1.591</td>\n",
       "      <td>3.783</td>\n",
       "      <td>United States</td>\n",
       "    </tr>\n",
       "    <tr>\n",
       "      <th>554883</th>\n",
       "      <td>1768-12-01</td>\n",
       "      <td>-2.882</td>\n",
       "      <td>4.979</td>\n",
       "      <td>United States</td>\n",
       "    </tr>\n",
       "    <tr>\n",
       "      <th>554884</th>\n",
       "      <td>1769-01-01</td>\n",
       "      <td>-3.952</td>\n",
       "      <td>4.856</td>\n",
       "      <td>United States</td>\n",
       "    </tr>\n",
       "  </tbody>\n",
       "</table>\n",
       "</div>"
      ],
      "text/plain": [
       "                dt  AverageTemperature  AverageTemperatureUncertainty  \\\n",
       "554880  1768-09-01              15.420                          2.880   \n",
       "554881  1768-10-01               8.162                          3.386   \n",
       "554882  1768-11-01               1.591                          3.783   \n",
       "554883  1768-12-01              -2.882                          4.979   \n",
       "554884  1769-01-01              -3.952                          4.856   \n",
       "\n",
       "              Country  \n",
       "554880  United States  \n",
       "554881  United States  \n",
       "554882  United States  \n",
       "554883  United States  \n",
       "554884  United States  "
      ]
     },
     "execution_count": 20,
     "metadata": {},
     "output_type": "execute_result"
    }
   ],
   "source": [
    "us.head()"
   ]
  },
  {
   "cell_type": "code",
   "execution_count": 21,
   "id": "0cb6f274",
   "metadata": {},
   "outputs": [],
   "source": [
    "us['dt'] = us['dt'].str[:4]"
   ]
  },
  {
   "cell_type": "code",
   "execution_count": 22,
   "id": "498ac3ef",
   "metadata": {},
   "outputs": [],
   "source": [
    "us.dt = us.dt.astype('int64')"
   ]
  },
  {
   "cell_type": "code",
   "execution_count": 23,
   "id": "ebb77bee",
   "metadata": {},
   "outputs": [
    {
     "data": {
      "text/html": [
       "<div>\n",
       "<style scoped>\n",
       "    .dataframe tbody tr th:only-of-type {\n",
       "        vertical-align: middle;\n",
       "    }\n",
       "\n",
       "    .dataframe tbody tr th {\n",
       "        vertical-align: top;\n",
       "    }\n",
       "\n",
       "    .dataframe thead th {\n",
       "        text-align: right;\n",
       "    }\n",
       "</style>\n",
       "<table border=\"1\" class=\"dataframe\">\n",
       "  <thead>\n",
       "    <tr style=\"text-align: right;\">\n",
       "      <th></th>\n",
       "      <th>dt</th>\n",
       "      <th>AverageTemperature</th>\n",
       "      <th>AverageTemperatureUncertainty</th>\n",
       "      <th>Country</th>\n",
       "    </tr>\n",
       "  </thead>\n",
       "  <tbody>\n",
       "    <tr>\n",
       "      <th>554880</th>\n",
       "      <td>1768</td>\n",
       "      <td>15.420</td>\n",
       "      <td>2.880</td>\n",
       "      <td>United States</td>\n",
       "    </tr>\n",
       "    <tr>\n",
       "      <th>554881</th>\n",
       "      <td>1768</td>\n",
       "      <td>8.162</td>\n",
       "      <td>3.386</td>\n",
       "      <td>United States</td>\n",
       "    </tr>\n",
       "    <tr>\n",
       "      <th>554882</th>\n",
       "      <td>1768</td>\n",
       "      <td>1.591</td>\n",
       "      <td>3.783</td>\n",
       "      <td>United States</td>\n",
       "    </tr>\n",
       "    <tr>\n",
       "      <th>554883</th>\n",
       "      <td>1768</td>\n",
       "      <td>-2.882</td>\n",
       "      <td>4.979</td>\n",
       "      <td>United States</td>\n",
       "    </tr>\n",
       "    <tr>\n",
       "      <th>554884</th>\n",
       "      <td>1769</td>\n",
       "      <td>-3.952</td>\n",
       "      <td>4.856</td>\n",
       "      <td>United States</td>\n",
       "    </tr>\n",
       "  </tbody>\n",
       "</table>\n",
       "</div>"
      ],
      "text/plain": [
       "          dt  AverageTemperature  AverageTemperatureUncertainty        Country\n",
       "554880  1768              15.420                          2.880  United States\n",
       "554881  1768               8.162                          3.386  United States\n",
       "554882  1768               1.591                          3.783  United States\n",
       "554883  1768              -2.882                          4.979  United States\n",
       "554884  1769              -3.952                          4.856  United States"
      ]
     },
     "execution_count": 23,
     "metadata": {},
     "output_type": "execute_result"
    }
   ],
   "source": [
    "us.head()"
   ]
  },
  {
   "cell_type": "code",
   "execution_count": 24,
   "id": "94bb4eef",
   "metadata": {},
   "outputs": [
    {
     "data": {
      "text/plain": [
       "dt                                 int64\n",
       "AverageTemperature               float64\n",
       "AverageTemperatureUncertainty    float64\n",
       "Country                           object\n",
       "dtype: object"
      ]
     },
     "execution_count": 24,
     "metadata": {},
     "output_type": "execute_result"
    }
   ],
   "source": [
    "us.dtypes"
   ]
  },
  {
   "cell_type": "code",
   "execution_count": 25,
   "id": "775c7e48",
   "metadata": {},
   "outputs": [],
   "source": [
    "us = us[us.dt > 2000]"
   ]
  },
  {
   "cell_type": "code",
   "execution_count": 26,
   "id": "bb0fa024",
   "metadata": {},
   "outputs": [
    {
     "data": {
      "text/html": [
       "<div>\n",
       "<style scoped>\n",
       "    .dataframe tbody tr th:only-of-type {\n",
       "        vertical-align: middle;\n",
       "    }\n",
       "\n",
       "    .dataframe tbody tr th {\n",
       "        vertical-align: top;\n",
       "    }\n",
       "\n",
       "    .dataframe thead th {\n",
       "        text-align: right;\n",
       "    }\n",
       "</style>\n",
       "<table border=\"1\" class=\"dataframe\">\n",
       "  <thead>\n",
       "    <tr style=\"text-align: right;\">\n",
       "      <th></th>\n",
       "      <th>dt</th>\n",
       "      <th>AverageTemperature</th>\n",
       "      <th>AverageTemperatureUncertainty</th>\n",
       "      <th>Country</th>\n",
       "    </tr>\n",
       "  </thead>\n",
       "  <tbody>\n",
       "    <tr>\n",
       "      <th>557668</th>\n",
       "      <td>2001</td>\n",
       "      <td>-2.052</td>\n",
       "      <td>0.142</td>\n",
       "      <td>United States</td>\n",
       "    </tr>\n",
       "    <tr>\n",
       "      <th>557669</th>\n",
       "      <td>2001</td>\n",
       "      <td>-0.730</td>\n",
       "      <td>0.157</td>\n",
       "      <td>United States</td>\n",
       "    </tr>\n",
       "    <tr>\n",
       "      <th>557670</th>\n",
       "      <td>2001</td>\n",
       "      <td>2.606</td>\n",
       "      <td>0.124</td>\n",
       "      <td>United States</td>\n",
       "    </tr>\n",
       "    <tr>\n",
       "      <th>557671</th>\n",
       "      <td>2001</td>\n",
       "      <td>9.274</td>\n",
       "      <td>0.084</td>\n",
       "      <td>United States</td>\n",
       "    </tr>\n",
       "    <tr>\n",
       "      <th>557672</th>\n",
       "      <td>2001</td>\n",
       "      <td>14.728</td>\n",
       "      <td>0.131</td>\n",
       "      <td>United States</td>\n",
       "    </tr>\n",
       "  </tbody>\n",
       "</table>\n",
       "</div>"
      ],
      "text/plain": [
       "          dt  AverageTemperature  AverageTemperatureUncertainty        Country\n",
       "557668  2001              -2.052                          0.142  United States\n",
       "557669  2001              -0.730                          0.157  United States\n",
       "557670  2001               2.606                          0.124  United States\n",
       "557671  2001               9.274                          0.084  United States\n",
       "557672  2001              14.728                          0.131  United States"
      ]
     },
     "execution_count": 26,
     "metadata": {},
     "output_type": "execute_result"
    }
   ],
   "source": [
    "us.head()"
   ]
  },
  {
   "cell_type": "code",
   "execution_count": 27,
   "id": "b4e8a11c",
   "metadata": {},
   "outputs": [
    {
     "data": {
      "text/plain": [
       "(153, 4)"
      ]
     },
     "execution_count": 27,
     "metadata": {},
     "output_type": "execute_result"
    }
   ],
   "source": [
    "us.shape"
   ]
  },
  {
   "cell_type": "code",
   "execution_count": 28,
   "id": "dfdeb331",
   "metadata": {},
   "outputs": [
    {
     "data": {
      "text/plain": [
       "<bound method DataFrame.info of           dt  AverageTemperature  AverageTemperatureUncertainty        Country\n",
       "557668  2001              -2.052                          0.142  United States\n",
       "557669  2001              -0.730                          0.157  United States\n",
       "557670  2001               2.606                          0.124  United States\n",
       "557671  2001               9.274                          0.084  United States\n",
       "557672  2001              14.728                          0.131  United States\n",
       "...      ...                 ...                            ...            ...\n",
       "557816  2013              14.073                          0.178  United States\n",
       "557817  2013              20.198                          0.236  United States\n",
       "557818  2013              22.074                          0.152  United States\n",
       "557819  2013              21.168                          0.249  United States\n",
       "557820  2013              18.273                          1.210  United States\n",
       "\n",
       "[153 rows x 4 columns]>"
      ]
     },
     "execution_count": 28,
     "metadata": {},
     "output_type": "execute_result"
    }
   ],
   "source": [
    "us.info"
   ]
  },
  {
   "cell_type": "code",
   "execution_count": 29,
   "id": "c73df31b",
   "metadata": {},
   "outputs": [],
   "source": [
    "us.set_index(\"dt\", inplace = True)"
   ]
  },
  {
   "cell_type": "code",
   "execution_count": 30,
   "id": "f7db61a5",
   "metadata": {},
   "outputs": [
    {
     "data": {
      "text/plain": [
       "Text(0.5, 0, 'Years')"
      ]
     },
     "execution_count": 30,
     "metadata": {},
     "output_type": "execute_result"
    },
    {
     "data": {
      "image/png": "[encoded data removed]",
      "text/plain": [
       "<Figure size 432x288 with 1 Axes>"
      ]
     },
     "metadata": {
      "needs_background": "light"
     },
     "output_type": "display_data"
    }
   ],
   "source": [
    "ax = us.plot(title='United States')\n",
    "ax.set_ylabel(\"Avg Temps °C\")\n",
    "ax.set_xlabel(\"Years\")"
   ]
  },
  {
   "cell_type": "code",
   "execution_count": 31,
   "id": "c2f9155f",
   "metadata": {},
   "outputs": [],
   "source": [
    "eu = cdf.apply(lambda row: row[cdf['Country'].isin(['Europe'])])"
   ]
  },
  {
   "cell_type": "code",
   "execution_count": 32,
   "id": "372aa722",
   "metadata": {},
   "outputs": [],
   "source": [
    "eu['dt'] = eu['dt'].str[:4]"
   ]
  },
  {
   "cell_type": "code",
   "execution_count": 33,
   "id": "d217ffb3",
   "metadata": {},
   "outputs": [],
   "source": [
    "eu.dt = eu.dt.astype('int64')"
   ]
  },
  {
   "cell_type": "code",
   "execution_count": 34,
   "id": "525cf6cc",
   "metadata": {},
   "outputs": [],
   "source": [
    "eu = eu[eu.dt > 2000]"
   ]
  },
  {
   "cell_type": "code",
   "execution_count": 35,
   "id": "c0202843",
   "metadata": {},
   "outputs": [
    {
     "data": {
      "text/plain": [
       "(153, 4)"
      ]
     },
     "execution_count": 35,
     "metadata": {},
     "output_type": "execute_result"
    }
   ],
   "source": [
    "eu.shape"
   ]
  },
  {
   "cell_type": "code",
   "execution_count": 36,
   "id": "1b13eb7b",
   "metadata": {},
   "outputs": [],
   "source": [
    "eu.set_index(\"dt\", inplace = True)"
   ]
  },
  {
   "cell_type": "code",
   "execution_count": null,
   "id": "c01c0362",
   "metadata": {},
   "outputs": [],
   "source": []
  },
  {
   "cell_type": "code",
   "execution_count": 37,
   "id": "6c3e757e",
   "metadata": {},
   "outputs": [
    {
     "data": {
      "text/plain": [
       "Text(0.5, 0, 'Years')"
      ]
     },
     "execution_count": 37,
     "metadata": {},
     "output_type": "execute_result"
    },
    {
     "data": {
      "image/png": "[encoded data removed]",
      "text/plain": [
       "<Figure size 432x288 with 1 Axes>"
      ]
     },
     "metadata": {
      "needs_background": "light"
     },
     "output_type": "display_data"
    }
   ],
   "source": [
    "ax = eu.plot(title='Europe')\n",
    "ax.set_ylabel(\"Avg Temps °C\")\n",
    "ax.set_xlabel(\"Years\")"
   ]
  },
  {
   "cell_type": "code",
   "execution_count": 38,
   "id": "db736b25",
   "metadata": {},
   "outputs": [],
   "source": [
    "ru = cdf.apply(lambda row: row[cdf['Country'].isin(['Russia'])])"
   ]
  },
  {
   "cell_type": "code",
   "execution_count": 39,
   "id": "4d99b5b2",
   "metadata": {},
   "outputs": [],
   "source": [
    "ru['dt'] = ru['dt'].str[:4]"
   ]
  },
  {
   "cell_type": "code",
   "execution_count": 40,
   "id": "812e7c33",
   "metadata": {},
   "outputs": [],
   "source": [
    "ru.dt = ru.dt.astype('int64')"
   ]
  },
  {
   "cell_type": "code",
   "execution_count": 41,
   "id": "2140cf78",
   "metadata": {},
   "outputs": [],
   "source": [
    "ru = ru[ru.dt > 2000]"
   ]
  },
  {
   "cell_type": "code",
   "execution_count": 42,
   "id": "79bf117d",
   "metadata": {},
   "outputs": [
    {
     "data": {
      "text/plain": [
       "(153, 4)"
      ]
     },
     "execution_count": 42,
     "metadata": {},
     "output_type": "execute_result"
    }
   ],
   "source": [
    "ru.shape"
   ]
  },
  {
   "cell_type": "code",
   "execution_count": 43,
   "id": "63a8bb9a",
   "metadata": {},
   "outputs": [],
   "source": [
    "ru.set_index(\"dt\", inplace = True)"
   ]
  },
  {
   "cell_type": "code",
   "execution_count": 44,
   "id": "f347820a",
   "metadata": {},
   "outputs": [
    {
     "data": {
      "text/plain": [
       "Text(0.5, 0, 'Years')"
      ]
     },
     "execution_count": 44,
     "metadata": {},
     "output_type": "execute_result"
    },
    {
     "data": {
      "image/png": "[encoded data removed]",
      "text/plain": [
       "<Figure size 432x288 with 1 Axes>"
      ]
     },
     "metadata": {
      "needs_background": "light"
     },
     "output_type": "display_data"
    }
   ],
   "source": [
    "ax = ru.plot(title='Russia')\n",
    "ax.set_ylabel(\"Avg Temps °C\")\n",
    "ax.set_xlabel(\"Years\")"
   ]
  },
  {
   "cell_type": "code",
   "execution_count": 45,
   "id": "1c6ed702",
   "metadata": {},
   "outputs": [],
   "source": [
    "ca = cdf.apply(lambda row: row[cdf['Country'].isin(['Canada'])])"
   ]
  },
  {
   "cell_type": "code",
   "execution_count": 46,
   "id": "8dc9b780",
   "metadata": {},
   "outputs": [],
   "source": [
    "ca['dt'] = ca['dt'].str[:4]"
   ]
  },
  {
   "cell_type": "code",
   "execution_count": 47,
   "id": "1ee9df4d",
   "metadata": {},
   "outputs": [],
   "source": [
    "ca.dt = ca.dt.astype('int64')"
   ]
  },
  {
   "cell_type": "code",
   "execution_count": 48,
   "id": "17c6b2fd",
   "metadata": {},
   "outputs": [],
   "source": [
    "ca = ca[ca.dt > 2000]"
   ]
  },
  {
   "cell_type": "code",
   "execution_count": 49,
   "id": "15e97446",
   "metadata": {},
   "outputs": [
    {
     "data": {
      "text/plain": [
       "(153, 4)"
      ]
     },
     "execution_count": 49,
     "metadata": {},
     "output_type": "execute_result"
    }
   ],
   "source": [
    "ca.shape"
   ]
  },
  {
   "cell_type": "code",
   "execution_count": 50,
   "id": "71901392",
   "metadata": {},
   "outputs": [],
   "source": [
    "ca.set_index(\"dt\", inplace = True)"
   ]
  },
  {
   "cell_type": "code",
   "execution_count": 51,
   "id": "0e8b185a",
   "metadata": {},
   "outputs": [
    {
     "data": {
      "text/plain": [
       "Text(0.5, 0, 'Years')"
      ]
     },
     "execution_count": 51,
     "metadata": {},
     "output_type": "execute_result"
    },
    {
     "data": {
      "image/png": "[encoded data removed]",
      "text/plain": [
       "<Figure size 432x288 with 1 Axes>"
      ]
     },
     "metadata": {
      "needs_background": "light"
     },
     "output_type": "display_data"
    }
   ],
   "source": [
    "ax = ca.plot(title='Canada')\n",
    "ax.set_ylabel(\"Avg Temps °C\")\n",
    "ax.set_xlabel(\"Years\")"
   ]
  },
  {
   "cell_type": "code",
   "execution_count": 52,
   "id": "1da86753",
   "metadata": {},
   "outputs": [],
   "source": [
    "jp = cdf.apply(lambda row: row[cdf['Country'].isin(['Japan'])])"
   ]
  },
  {
   "cell_type": "code",
   "execution_count": 53,
   "id": "9275720a",
   "metadata": {},
   "outputs": [],
   "source": [
    "jp['dt'] = jp['dt'].str[:4]"
   ]
  },
  {
   "cell_type": "code",
   "execution_count": 54,
   "id": "2f4e7cb2",
   "metadata": {},
   "outputs": [],
   "source": [
    "jp.dt = jp.dt.astype('int64')"
   ]
  },
  {
   "cell_type": "code",
   "execution_count": 55,
   "id": "4b6eaf3e",
   "metadata": {},
   "outputs": [],
   "source": [
    "jp = jp[jp.dt > 2000]"
   ]
  },
  {
   "cell_type": "code",
   "execution_count": 56,
   "id": "0315e0d4",
   "metadata": {},
   "outputs": [
    {
     "data": {
      "text/plain": [
       "(153, 4)"
      ]
     },
     "execution_count": 56,
     "metadata": {},
     "output_type": "execute_result"
    }
   ],
   "source": [
    "jp.shape"
   ]
  },
  {
   "cell_type": "code",
   "execution_count": 57,
   "id": "7e2de1ea",
   "metadata": {},
   "outputs": [],
   "source": [
    "jp.set_index(\"dt\", inplace = True)"
   ]
  },
  {
   "cell_type": "code",
   "execution_count": 58,
   "id": "b461f517",
   "metadata": {},
   "outputs": [
    {
     "data": {
      "text/plain": [
       "Text(0.5, 0, 'Years')"
      ]
     },
     "execution_count": 58,
     "metadata": {},
     "output_type": "execute_result"
    },
    {
     "data": {
      "image/png": "[encoded data removed]",
      "text/plain": [
       "<Figure size 432x288 with 1 Axes>"
      ]
     },
     "metadata": {
      "needs_background": "light"
     },
     "output_type": "display_data"
    }
   ],
   "source": [
    "ax = jp.plot(title='Japan')\n",
    "ax.set_ylabel(\"Avg Temps °C\")\n",
    "ax.set_xlabel(\"Years\")"
   ]
  },
  {
   "cell_type": "code",
   "execution_count": null,
   "id": "6a8eae83",
   "metadata": {},
   "outputs": [],
   "source": []
  }
 ],
 "metadata": {
  "kernelspec": {
   "display_name": "Python 3 (ipykernel)",
   "language": "python",
   "name": "python3"
  },
  "language_info": {
   "codemirror_mode": {
    "name": "ipython",
    "version": 3
   },
   "file_extension": ".py",
   "mimetype": "text/x-python",
   "name": "python",
   "nbconvert_exporter": "python",
   "pygments_lexer": "ipython3",
   "version": "3.9.12"
  }
 },
 "nbformat": 4,
 "nbformat_minor": 5
}
